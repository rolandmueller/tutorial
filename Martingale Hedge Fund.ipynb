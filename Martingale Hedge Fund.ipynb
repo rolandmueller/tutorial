{
 "cells": [
  {
   "cell_type": "code",
   "execution_count": 1,
   "metadata": {},
   "outputs": [],
   "source": [
    "%matplotlib inline\n",
    "import matplotlib.pyplot as plt\n",
    "import numpy as np"
   ]
  },
  {
   "cell_type": "code",
   "execution_count": 2,
   "metadata": {},
   "outputs": [],
   "source": [
    "np.random.seed(10)\n",
    "# 38 field\n",
    "# Two white fields for 0 and 00\n",
    "# odds for red 18/38\n",
    "win_odds = 18/38\n",
    "runs = 10_000\n",
    "aum = 1_000_000\n",
    "max_sim_years = 30\n",
    "performance_fee_rate = 0.10\n",
    "management_fee_rate = 0.01\n",
    "betsize_percentage = 0.1 \n",
    "\n",
    "total_manager_compensation = []\n",
    "end_aums = []\n",
    "bancrupt_years = []\n",
    "bancrupties = []\n",
    "all_yealy_aums = []\n",
    "for run in range(runs):\n",
    "    yearly_aums = []\n",
    "    bancrupt_year = max_sim_years\n",
    "    aumcurrent = aum\n",
    "    manager_compensation = 0\n",
    "    for year in range(max_sim_years):\n",
    "        yearly_aums.append(aumcurrent)\n",
    "        aumlast = aumcurrent\n",
    "        yearly_management_fee = aumcurrent * management_fee_rate\n",
    "        aumcurrent -= yearly_management_fee \n",
    "        manager_compensation += yearly_management_fee\n",
    "        won = False\n",
    "        bancrupt = False\n",
    "        betsize = aumlast * betsize_percentage\n",
    "        while won == False and bancrupt == False:\n",
    "            if np.random.random() < win_odds:\n",
    "                aumcurrent += betsize\n",
    "                won = True\n",
    "            else:\n",
    "                aumcurrent -= betsize\n",
    "                if aumcurrent <= 0:\n",
    "                    bancrupt = True\n",
    "                elif aumcurrent >= betsize * 2:  \n",
    "                    betsize = betsize * 2\n",
    "                else:\n",
    "                    betsize = aumcurrent\n",
    "        if bancrupt == True:\n",
    "            bancrupt_year = year\n",
    "            yearly_aums.append(aumcurrent)\n",
    "            break\n",
    "        else:\n",
    "            if aumcurrent > aumlast:\n",
    "                yearly_performance_feee = (aumcurrent - aumlast) * performance_fee_rate\n",
    "                aumcurrent -= yearly_performance_feee\n",
    "                manager_compensation += yearly_performance_feee\n",
    "    if bancrupt:\n",
    "        bancrupties.append(1)\n",
    "    else:\n",
    "        bancrupties.append(0)\n",
    "    total_manager_compensation.append(manager_compensation)\n",
    "    end_aums.append(aumcurrent)\n",
    "    bancrupt_years.append(bancrupt_year)\n",
    "    all_yealy_aums.append(yearly_aums)\n",
    "    \n",
    "np_years = np.array(bancrupt_years)\n",
    "np_aums = np.array(end_aums)\n",
    "np_compensation = np.array(total_manager_compensation)\n",
    "np_bancrupties = np.array(bancrupties)"
   ]
  },
  {
   "cell_type": "markdown",
   "metadata": {},
   "source": [
    "## Question 1"
   ]
  },
  {
   "cell_type": "code",
   "execution_count": 3,
   "metadata": {},
   "outputs": [
    {
     "name": "stdout",
     "output_type": "stream",
     "text": [
      "What is the risk of bankruptcy? 90.9%\n"
     ]
    }
   ],
   "source": [
    "print(f\"What is the risk of bankruptcy? {np.mean(np_bancrupties):.1%}\")"
   ]
  },
  {
   "cell_type": "markdown",
   "metadata": {},
   "source": [
    "## Question 2"
   ]
  },
  {
   "cell_type": "code",
   "execution_count": 4,
   "metadata": {},
   "outputs": [
    {
     "name": "stdout",
     "output_type": "stream",
     "text": [
      "What is the expected profit as the hedge fund manager? 326,827 €\n"
     ]
    }
   ],
   "source": [
    "print(f\"What is the expected profit as the hedge fund manager? {np.mean(np_compensation):,.0f} €\")"
   ]
  },
  {
   "cell_type": "markdown",
   "metadata": {},
   "source": [
    "## Question 3"
   ]
  },
  {
   "cell_type": "code",
   "execution_count": 5,
   "metadata": {},
   "outputs": [
    {
     "name": "stdout",
     "output_type": "stream",
     "text": [
      "What is the expected profit/loss of the client? -665,197 €\n"
     ]
    }
   ],
   "source": [
    "print(f\"What is the expected profit/loss of the client? {np.mean(np_aums) - aum:,.0f} €\")"
   ]
  },
  {
   "cell_type": "markdown",
   "metadata": {},
   "source": [
    "## Further analyses"
   ]
  },
  {
   "cell_type": "markdown",
   "metadata": {},
   "source": [
    "### Show the chart of the AUM for one simulation"
   ]
  },
  {
   "cell_type": "code",
   "execution_count": 12,
   "metadata": {},
   "outputs": [
    {
     "data": {
      "image/png": "[encoded data removed]",
      "text/plain": [
       "<Figure size 432x288 with 1 Axes>"
      ]
     },
     "metadata": {
      "needs_background": "light"
     },
     "output_type": "display_data"
    }
   ],
   "source": [
    "plt.plot(all_yealy_aums[5])\n",
    "plt.show()"
   ]
  },
  {
   "cell_type": "markdown",
   "metadata": {},
   "source": [
    "### Histogram of the bankruptcy years"
   ]
  },
  {
   "cell_type": "code",
   "execution_count": 7,
   "metadata": {},
   "outputs": [
    {
     "data": {
      "image/png": "[encoded data removed]",
      "text/plain": [
       "<Figure size 432x288 with 1 Axes>"
      ]
     },
     "metadata": {
      "needs_background": "light"
     },
     "output_type": "display_data"
    }
   ],
   "source": [
    "plt.hist(np_years, bins=max_sim_years, density=True)\n",
    "plt.show()"
   ]
  },
  {
   "cell_type": "code",
   "execution_count": 8,
   "metadata": {},
   "outputs": [
    {
     "name": "stdout",
     "output_type": "stream",
     "text": [
      "What is the average year of the bankruptcy? 10.9 years\n"
     ]
    }
   ],
   "source": [
    "print(f\"What is the average year of the bankruptcy? {np.mean(np_years):.1f} years\")"
   ]
  },
  {
   "cell_type": "code",
   "execution_count": 9,
   "metadata": {},
   "outputs": [
    {
     "name": "stdout",
     "output_type": "stream",
     "text": [
      "What is the maximum profit as the hedge fund manager? 2,192,262 €\n"
     ]
    }
   ],
   "source": [
    "print(f\"What is the maximum profit as the hedge fund manager? {np.max(np_compensation):,.0f} €\")"
   ]
  },
  {
   "cell_type": "code",
   "execution_count": 13,
   "metadata": {},
   "outputs": [
    {
     "name": "stdout",
     "output_type": "stream",
     "text": [
      "What is the maximum profit as the hedge fund manager? 10,000 €\n"
     ]
    }
   ],
   "source": [
    "print(f\"What is the minimum profit as the hedge fund manager? {np.min(np_compensation):,.0f} €\")"
   ]
  },
  {
   "cell_type": "markdown",
   "metadata": {},
   "source": [
    "### Histogram of the Hedge Fund Compensation"
   ]
  },
  {
   "cell_type": "code",
   "execution_count": 10,
   "metadata": {},
   "outputs": [
    {
     "data": {
      "image/png": "[encoded data removed]",
      "text/plain": [
       "<Figure size 432x288 with 1 Axes>"
      ]
     },
     "metadata": {
      "needs_background": "light"
     },
     "output_type": "display_data"
    }
   ],
   "source": [
    "plt.hist(np_compensation)\n",
    "plt.show()"
   ]
  }
 ],
 "metadata": {
  "kernelspec": {
   "display_name": "Python 3 (ipykernel)",
   "language": "python",
   "name": "python3"
  },
  "language_info": {
   "codemirror_mode": {
    "name": "ipython",
    "version": 3
   },
   "file_extension": ".py",
   "mimetype": "text/x-python",
   "name": "python",
   "nbconvert_exporter": "python",
   "pygments_lexer": "ipython3",
   "version": "3.9.5"
  },
  "varInspector": {
   "cols": {
    "lenName": 16,
    "lenType": 16,
    "lenVar": 40
   },
   "kernels_config": {
    "python": {
     "delete_cmd_postfix": "",
     "delete_cmd_prefix": "del ",
     "library": "var_list.py",
     "varRefreshCmd": "print(var_dic_list())"
    },
    "r": {
     "delete_cmd_postfix": ") ",
     "delete_cmd_prefix": "rm(",
     "library": "var_list.r",
     "varRefreshCmd": "cat(var_dic_list()) "
    }
   },
   "types_to_exclude": [
    "module",
    "function",
    "builtin_function_or_method",
    "instance",
    "_Feature"
   ],
   "window_display": false
  }
 },
 "nbformat": 4,
 "nbformat_minor": 4
}
