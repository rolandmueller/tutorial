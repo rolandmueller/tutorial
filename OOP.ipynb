{
 "cells": [
  {
   "cell_type": "code",
   "execution_count": 1,
   "metadata": {},
   "outputs": [],
   "source": [
    "class Position:\n",
    "    def __init__(self, stock, shares, price):\n",
    "        self.stock = stock\n",
    "        self.shares = shares\n",
    "        self.price = price\n",
    "    def purchase_value(self):\n",
    "        return self.shares * self.price\n",
    "    \n",
    "class Portfolio:\n",
    "    def __init__(self):\n",
    "        self.portfolio = []\n",
    "    def buy(self, position):\n",
    "        self.portfolio.append(position)\n",
    "    def purchase_value(self):\n",
    "        portfolio_value = 0\n",
    "        for position in self.portfolio:\n",
    "            portfolio_value += position.purchase_value()\n",
    "        return portfolio_value"
   ]
  },
  {
   "cell_type": "code",
   "execution_count": 4,
   "metadata": {},
   "outputs": [],
   "source": [
    "google = Position(\"Google\", 10, 1600.00)\n",
    "sap = Position(\"SAP\", 200, 90.00)\n",
    "ibm = Position(\"IBM\", 200, 90.00)\n",
    "google2 = Position(\"Google\", 20, 1400.00)\n",
    "oracle = Position(\"Oracle\", 30, 500.00)"
   ]
  },
  {
   "cell_type": "code",
   "execution_count": 5,
   "metadata": {},
   "outputs": [],
   "source": [
    "portfolio1 = Portfolio()\n",
    "portfolio1.buy(google)\n",
    "portfolio1.buy(sap)\n",
    "portfolio1.buy(ibm)\n",
    "\n",
    "portfolio2 = Portfolio()\n",
    "portfolio2.buy(google2)\n",
    "portfolio2.buy(oracle)\n",
    "portfolio2.buy(portfolio1)\n"
   ]
  },
  {
   "cell_type": "code",
   "execution_count": 6,
   "metadata": {},
   "outputs": [
    {
     "data": {
      "text/plain": [
       "52000.0"
      ]
     },
     "execution_count": 6,
     "metadata": {},
     "output_type": "execute_result"
    }
   ],
   "source": [
    "portfolio1.purchase_value()"
   ]
  },
  {
   "cell_type": "code",
   "execution_count": 7,
   "metadata": {},
   "outputs": [
    {
     "data": {
      "text/plain": [
       "95000.0"
      ]
     },
     "execution_count": 7,
     "metadata": {},
     "output_type": "execute_result"
    }
   ],
   "source": [
    "portfolio2.purchase_value()"
   ]
  },
  {
   "cell_type": "code",
   "execution_count": null,
   "metadata": {},
   "outputs": [],
   "source": []
  }
 ],
 "metadata": {
  "kernelspec": {
   "display_name": "Python 3",
   "language": "python",
   "name": "python3"
  },
  "language_info": {
   "codemirror_mode": {
    "name": "ipython",
    "version": 3
   },
   "file_extension": ".py",
   "mimetype": "text/x-python",
   "name": "python",
   "nbconvert_exporter": "python",
   "pygments_lexer": "ipython3",
   "version": "3.8.3"
  }
 },
 "nbformat": 4,
 "nbformat_minor": 4
}
